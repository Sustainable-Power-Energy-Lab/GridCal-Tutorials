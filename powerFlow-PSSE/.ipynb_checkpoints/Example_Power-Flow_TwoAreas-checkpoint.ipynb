{
 "cells": [
  {
   "cell_type": "markdown",
   "id": "1eba2615-1f89-4557-ba3c-9a21c4466a8e",
   "metadata": {},
   "source": [
    "# Importing Libraries"
   ]
  },
  {
   "cell_type": "code",
   "execution_count": 1,
   "id": "4bcf3387-9bcf-4fcb-a0af-3a141b3f5ccb",
   "metadata": {},
   "outputs": [
    {
     "ename": "ModuleNotFoundError",
     "evalue": "No module named 'GridCal'",
     "output_type": "error",
     "traceback": [
      "\u001b[0;31m---------------------------------------------------------------------------\u001b[0m",
      "\u001b[0;31mModuleNotFoundError\u001b[0m                       Traceback (most recent call last)",
      "Cell \u001b[0;32mIn [1], line 6\u001b[0m\n\u001b[1;32m      3\u001b[0m \u001b[38;5;28;01mimport\u001b[39;00m \u001b[38;5;21;01mmatplotlib\u001b[39;00m\u001b[38;5;21;01m.\u001b[39;00m\u001b[38;5;21;01mpyplot\u001b[39;00m \u001b[38;5;28;01mas\u001b[39;00m \u001b[38;5;21;01mplt\u001b[39;00m\n\u001b[1;32m      4\u001b[0m \u001b[38;5;28;01mimport\u001b[39;00m \u001b[38;5;21;01mos\u001b[39;00m\n\u001b[0;32m----> 6\u001b[0m \u001b[38;5;28;01mfrom\u001b[39;00m \u001b[38;5;21;01mGridCal\u001b[39;00m\u001b[38;5;21;01m.\u001b[39;00m\u001b[38;5;21;01mEngine\u001b[39;00m \u001b[38;5;28;01mimport\u001b[39;00m \u001b[38;5;241m*\u001b[39m\n\u001b[1;32m      7\u001b[0m \u001b[38;5;28;01mfrom\u001b[39;00m \u001b[38;5;21;01mGridCal\u001b[39;00m\u001b[38;5;21;01m.\u001b[39;00m\u001b[38;5;21;01mEngine\u001b[39;00m\u001b[38;5;21;01m.\u001b[39;00m\u001b[38;5;21;01mIO\u001b[39;00m\u001b[38;5;21;01m.\u001b[39;00m\u001b[38;5;21;01mfile_handler\u001b[39;00m \u001b[38;5;28;01mimport\u001b[39;00m FileOpen\n\u001b[1;32m      8\u001b[0m \u001b[38;5;28;01mfrom\u001b[39;00m \u001b[38;5;21;01mGridCal\u001b[39;00m\u001b[38;5;21;01m.\u001b[39;00m\u001b[38;5;21;01mEngine\u001b[39;00m\u001b[38;5;21;01m.\u001b[39;00m\u001b[38;5;21;01mDevices\u001b[39;00m\u001b[38;5;21;01m.\u001b[39;00m\u001b[38;5;21;01mshunt\u001b[39;00m \u001b[38;5;28;01mimport\u001b[39;00m Shunt\n",
      "\u001b[0;31mModuleNotFoundError\u001b[0m: No module named 'GridCal'"
     ]
    }
   ],
   "source": [
    "import numpy as np\n",
    "import pandas as pd\n",
    "import matplotlib.pyplot as plt\n",
    "import os\n",
    "\n",
    "from GridCal.Engine import *\n",
    "from GridCal.Engine.IO.file_handler import FileOpen\n",
    "from GridCal.Engine.Devices.shunt import Shunt\n",
    "from GridCal.Engine.Simulations.PowerFlow.time_series_driver import TimeSeries\n",
    "from GridCal.Engine.Simulations.PowerFlow.power_flow_driver import PowerFlowDriver"
   ]
  },
  {
   "cell_type": "markdown",
   "id": "6895c4f4-ebe4-494d-ba5c-45a51193cb92",
   "metadata": {},
   "source": [
    "## Loading the PSS/E Model\n",
    "\n",
    "First, we load a PSS/E model from a `*.raw` file. We construct a variable that points to the absolute path of the PSS/E file. Then, we use the `FileOpen` class to load it into a `file_handler` instance. Then, we instantiate a grid object and assign it to the results of parsing the PSS/E file into a GridCal model."
   ]
  },
  {
   "cell_type": "code",
   "execution_count": null,
   "id": "8ff05757-cc78-4934-9314-3c92c6cccde2",
   "metadata": {},
   "outputs": [],
   "source": [
    "path_raw = os.path.abspath(os.path.join(\"PSSE_Files\"), \"TwoAreas_Base_Case.raw\")\n",
    "\n",
    "file_handler = FileOpen(path_raw)\n",
    "\n",
    "# Initializing a grid object\n",
    "grid = None\n",
    "\n",
    "# Opening the grid object\n",
    "grid = file_handler.open()"
   ]
  },
  {
   "cell_type": "markdown",
   "id": "d169d647-5761-47cc-9f84-129b5ef1f2a9",
   "metadata": {},
   "source": [
    "## Visualizing the Network\n",
    "\n",
    "We use the GridCal functionalities to visualize the topology of the network as a graph. This is done by invoking the `plot_graph()` function in the grid object."
   ]
  },
  {
   "cell_type": "code",
   "execution_count": null,
   "id": "dfecaf49-f473-4745-a04f-d8b3bbe63169",
   "metadata": {},
   "outputs": [],
   "source": [
    "grid.plot_graph()\n",
    "plt.show()"
   ]
  },
  {
   "cell_type": "markdown",
   "id": "33126124-fc49-4ab3-8fa9-aef4c69694a8",
   "metadata": {},
   "source": [
    "## Setting Up Power Flow Solver"
   ]
  },
  {
   "cell_type": "code",
   "execution_count": null,
   "id": "e05f0fdf-b0c3-44cd-a8a9-838873f86f48",
   "metadata": {},
   "outputs": [],
   "source": []
  },
  {
   "cell_type": "code",
   "execution_count": null,
   "id": "b13bd266-2963-4965-a682-057a08e0e34f",
   "metadata": {},
   "outputs": [],
   "source": [
    "## Running a Power Flow"
   ]
  },
  {
   "cell_type": "code",
   "execution_count": null,
   "id": "b37895d8-2a8a-47a8-809b-6043d1bf7a3c",
   "metadata": {},
   "outputs": [],
   "source": []
  },
  {
   "cell_type": "markdown",
   "id": "81edefa3-7485-41be-aae4-077671fe0fd7",
   "metadata": {},
   "source": [
    "## Printing and Exporting Results"
   ]
  },
  {
   "cell_type": "code",
   "execution_count": null,
   "id": "c40df08d-b38e-45a2-bcc1-4ea2e8f5f39e",
   "metadata": {},
   "outputs": [],
   "source": []
  },
  {
   "cell_type": "code",
   "execution_count": null,
   "id": "67cc451f-17d6-4d68-897c-b31ea0de8f96",
   "metadata": {},
   "outputs": [],
   "source": []
  }
 ],
 "metadata": {
  "kernelspec": {
   "display_name": "Python 3 (ipykernel)",
   "language": "python",
   "name": "python3"
  },
  "language_info": {
   "codemirror_mode": {
    "name": "ipython",
    "version": 3
   },
   "file_extension": ".py",
   "mimetype": "text/x-python",
   "name": "python",
   "nbconvert_exporter": "python",
   "pygments_lexer": "ipython3",
   "version": "3.8.13"
  }
 },
 "nbformat": 4,
 "nbformat_minor": 5
}
