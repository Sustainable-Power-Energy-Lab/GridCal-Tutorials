{
 "cells": [
  {
   "cell_type": "markdown",
   "id": "1eba2615-1f89-4557-ba3c-9a21c4466a8e",
   "metadata": {},
   "source": [
    "# Importing Libraries"
   ]
  },
  {
   "cell_type": "code",
   "execution_count": 1,
   "id": "4bcf3387-9bcf-4fcb-a0af-3a141b3f5ccb",
   "metadata": {},
   "outputs": [
    {
     "name": "stdout",
     "output_type": "stream",
     "text": [
      "Bentayga is not available\n",
      "Newton native is not available\n",
      "Alliander's power grid model is not available, try pip install power-grid-model\n",
      "Newton Power Analytics is not available: No module named 'newtonpa'\n"
     ]
    }
   ],
   "source": [
    "import numpy as np\n",
    "import pandas as pd\n",
    "import matplotlib.pyplot as plt\n",
    "import os\n",
    "\n",
    "from GridCal.Engine import *\n",
    "from GridCal.Engine.IO.file_handler import FileOpen\n",
    "from GridCal.Engine.Devices.shunt import Shunt\n",
    "from GridCal.Engine.Simulations.PowerFlow.time_series_driver import TimeSeries\n",
    "from GridCal.Engine.Simulations.PowerFlow.power_flow_driver import PowerFlowDriver"
   ]
  },
  {
   "cell_type": "markdown",
   "id": "6895c4f4-ebe4-494d-ba5c-45a51193cb92",
   "metadata": {},
   "source": [
    "## Loading the PSS/E Model\n",
    "\n",
    "First, we load a PSS/E model from a `*.raw` file. We construct a variable that points to the absolute path of the PSS/E file. Then, we use the `FileOpen` class to load it into a `file_handler` instance. Then, we instantiate a grid object and assign it to the results of parsing the PSS/E file into a GridCal model."
   ]
  },
  {
   "cell_type": "code",
   "execution_count": 6,
   "id": "8ff05757-cc78-4934-9314-3c92c6cccde2",
   "metadata": {},
   "outputs": [],
   "source": [
    "path_raw = os.path.abspath(os.path.join(\"PSSE_Files\", \"TwoAreas_Base_Case.raw\"))\n",
    "\n",
    "file_handler = FileOpen(path_raw)\n",
    "\n",
    "# Initializing a grid object\n",
    "grid = None\n",
    "\n",
    "# Opening the grid object\n",
    "grid = file_handler.open()\n",
    "\n",
    "grid.name = \"Kundur Two Areas\""
   ]
  },
  {
   "cell_type": "markdown",
   "id": "d169d647-5761-47cc-9f84-129b5ef1f2a9",
   "metadata": {},
   "source": [
    "## Visualizing the Network\n",
    "\n",
    "We use the GridCal functionalities to visualize the topology of the network as a graph. This is done by invoking the `plot_graph()` function in the grid object."
   ]
  },
  {
   "cell_type": "code",
   "execution_count": null,
   "id": "dfecaf49-f473-4745-a04f-d8b3bbe63169",
   "metadata": {},
   "outputs": [],
   "source": [
    "grid.plot_graph()\n",
    "plt.show()"
   ]
  },
  {
   "cell_type": "markdown",
   "id": "33126124-fc49-4ab3-8fa9-aef4c69694a8",
   "metadata": {},
   "source": [
    "## Setting Up Power Flow Solver\n",
    "\n",
    "The options to the power flow driver object are passed in a `PowerFlowOptions` object that contains:\n",
    "- the solver type;\n",
    "- the option to start from an existing solution;\n",
    "- a flag to indicate if the power flow computation shall be parallelized or not;\n",
    "- the maximum number of iterations;\n",
    "- the reactive power control mode (in case the $Q$ limits are hit for PV buses).\n",
    "\n",
    "Once the options are specified, a `PowerFlowDriver` object can be instantiated passing the grid model and the options as arguments."
   ]
  },
  {
   "cell_type": "code",
   "execution_count": 7,
   "id": "e05f0fdf-b0c3-44cd-a8a9-838873f86f48",
   "metadata": {},
   "outputs": [],
   "source": [
    "options = PowerFlowOptions(SolverType.NR, \n",
    "                          verbose = True,\n",
    "                          initialize_with_existing_solution = False,\n",
    "                          multi_core = False,\n",
    "                          tolerance = 1e-6,\n",
    "                          max_iter = 99,\n",
    "                          control_q = ReactivePowerControlMode.Direct)\n",
    "\n",
    "pf = PowerFlowDriver(grid, options)"
   ]
  },
  {
   "cell_type": "markdown",
   "id": "ea969f4f-16a2-4344-af6e-a635253c9cf6",
   "metadata": {},
   "source": [
    "## Running a Power Flow\n",
    "\n",
    "A power flow computation for a single snapshot is run using the function `run()` of the `PowerFlowDriver` class."
   ]
  },
  {
   "cell_type": "code",
   "execution_count": 9,
   "id": "b37895d8-2a8a-47a8-809b-6043d1bf7a3c",
   "metadata": {},
   "outputs": [],
   "source": [
    "pf.run()"
   ]
  },
  {
   "cell_type": "markdown",
   "id": "81edefa3-7485-41be-aae4-077671fe0fd7",
   "metadata": {},
   "source": [
    "## Printing and Exporting Results\n",
    "\n",
    "The results of the power flow computation are stored in the field `results` inside the `PowerFlowDriver` object."
   ]
  },
  {
   "cell_type": "code",
   "execution_count": 10,
   "id": "c40df08d-b38e-45a2-bcc1-4ea2e8f5f39e",
   "metadata": {},
   "outputs": [
    {
     "name": "stdout",
     "output_type": "stream",
     "text": [
      "\n",
      "\n",
      " Kundur Two Areas\n",
      "\t|V|: [1.03       1.01       1.03       1.01       1.00644977 0.97812285 0.96100702 0.94859949 0.9713535  0.98345116 1.0082484 ]\n",
      "\t|Sbranch|: [ 724.04272354  738.27384039  740.329235    728.59464792  707.4879902  1393.60667541  200.25933915  200.25933915  196.87793307  196.87793307 1391.112828    707.03601625]\n",
      "\t|loading|: [7.24042724e+13 7.38273840e+13 7.40329235e+13 7.28594648e+13 7.07487990e+13 1.39360668e+14 2.00259339e+13 2.00259339e+13 1.96877933e+13 1.96877933e+13 1.39111283e+14 7.07036016e+13]\n",
      "\terr: 2.7658498780169793e-07\n",
      "\tConv: True\n"
     ]
    }
   ],
   "source": [
    "print('\\n\\n', grid.name)\n",
    "print('\\t|V|:', abs(pf.results.voltage))\n",
    "print('\\t|Sbranch|:', abs(pf.results.Sf))\n",
    "print('\\t|loading|:', abs(pf.results.loading) * 100)\n",
    "print('\\terr:', pf.results.error)\n",
    "print('\\tConv:', pf.results.converged)"
   ]
  },
  {
   "cell_type": "markdown",
   "id": "367076c6-7126-41a1-9e5b-5ed516a44b56",
   "metadata": {},
   "source": [
    "It is also possible to export the data as a `*.csv` file using Pandas."
   ]
  },
  {
   "cell_type": "code",
   "execution_count": 11,
   "id": "67cc451f-17d6-4d68-897c-b31ea0de8f96",
   "metadata": {},
   "outputs": [],
   "source": [
    "# Create Headers\n",
    "headers = ['Vm (p.u.)', 'Va (deg)', 'Vre', 'Vim']\n",
    "\n",
    "# Choose variables to display\n",
    "Vm = np.abs(pf.results.voltage)\n",
    "Va = np.angle(pf.results.voltage, deg=True)\n",
    "Vre = pf.results.voltage.real\n",
    "Vim = pf.results.voltage.imag\n",
    "data = np.c_[Vm, Va, Vre, Vim]\n",
    "\n",
    "# Create Data Frame\n",
    "v_df = pd.DataFrame(data=data, columns=headers, index=grid.bus_names)\n",
    "# Export Results\n",
    "v_df.to_csv(\"example_pf-results.csv\")"
   ]
  }
 ],
 "metadata": {
  "kernelspec": {
   "display_name": "Python 3 (ipykernel)",
   "language": "python",
   "name": "python3"
  },
  "language_info": {
   "codemirror_mode": {
    "name": "ipython",
    "version": 3
   },
   "file_extension": ".py",
   "mimetype": "text/x-python",
   "name": "python",
   "nbconvert_exporter": "python",
   "pygments_lexer": "ipython3",
   "version": "3.9.13"
  }
 },
 "nbformat": 4,
 "nbformat_minor": 5
}
